{
 "cells": [
  {
   "cell_type": "markdown",
   "metadata": {},
   "source": [
    "# Let's do some CS!\n",
    "[Elixir Docs, Crash Course on pattern matching](https://elixir-lang.org/crash-course.html#pattern-matching)\n",
    "\n",
    "Pattern matching is used to in function heads. It's a nice tool for recursion. \n",
    "\n",
    "Because the crash course docs are brief, and hint at recursion, we'll implement counting and Peano numbers to illustrate specific use cases."
   ]
  },
  {
   "cell_type": "code",
   "execution_count": 16,
   "metadata": {},
   "outputs": [
    {
     "name": "stderr",
     "output_type": "stream",
     "text": [
      "\u001b[33mwarning: \u001b[0mredefining module Count (current version defined in memory)\n",
      "  nofile:1\n",
      "\n",
      "\u001b[33mwarning: \u001b[0mvariable \"x\" is unused (if the variable is not meant to be used, prefix it with an underscore)\n",
      "  nofile:15: Count.closure/1\n",
      "\n"
     ]
    },
    {
     "data": {
      "text/plain": [
       "{:module, Count, <<70, 79, 82, 49, 0, 0, 5, 196, 66, 69, 65, 77, 65, 116, 85, 56, 0, 0, 0, 157, 0, 0, 0, 17, 12, 69, 108, 105, 120, 105, 114, 46, 67, 111, 117, 110, 116, 8, 95, 95, 105, 110, 102, 111, 95, 95, 7, ...>>, {:closure, 1}}"
      ]
     },
     "execution_count": 16,
     "metadata": {},
     "output_type": "execute_result"
    }
   ],
   "source": [
    "defmodule Count do\n",
    "\n",
    "  def size(a_list) do\n",
    "    size(a_list, 0)\n",
    "  end\n",
    "\n",
    "  defp size([], count), do: count\n",
    "  \n",
    "  defp size([_h | t], count) do\n",
    "    size(t, count + 1)\n",
    "  end\n",
    "end"
   ]
  },
  {
   "cell_type": "code",
   "execution_count": 17,
   "metadata": {},
   "outputs": [
    {
     "data": {
      "text/plain": [
       "Count"
      ]
     },
     "execution_count": 17,
     "metadata": {},
     "output_type": "execute_result"
    }
   ],
   "source": [
    "import Count, only: [size: 1, closure: 1]"
   ]
  },
  {
   "cell_type": "code",
   "execution_count": 9,
   "metadata": {},
   "outputs": [
    {
     "data": {
      "text/plain": [
       "3"
      ]
     },
     "execution_count": 9,
     "metadata": {},
     "output_type": "execute_result"
    }
   ],
   "source": [
    "size([1, 2, 3])"
   ]
  },
  {
   "cell_type": "code",
   "execution_count": 5,
   "metadata": {},
   "outputs": [
    {
     "data": {
      "text/plain": [
       "0"
      ]
     },
     "execution_count": 5,
     "metadata": {},
     "output_type": "execute_result"
    }
   ],
   "source": [
    "size([])"
   ]
  },
  {
   "cell_type": "code",
   "execution_count": 6,
   "metadata": {},
   "outputs": [
    {
     "data": {
      "text/plain": [
       "5"
      ]
     },
     "execution_count": 6,
     "metadata": {},
     "output_type": "execute_result"
    }
   ],
   "source": [
    "size([:a, :b, :c, \"hello\", \"world\"])"
   ]
  },
  {
   "cell_type": "code",
   "execution_count": 7,
   "metadata": {},
   "outputs": [
    {
     "data": {
      "text/plain": [
       "1"
      ]
     },
     "execution_count": 7,
     "metadata": {},
     "output_type": "execute_result"
    }
   ],
   "source": [
    "size([42])"
   ]
  },
  {
   "cell_type": "code",
   "execution_count": null,
   "metadata": {},
   "outputs": [],
   "source": []
  },
  {
   "cell_type": "markdown",
   "metadata": {},
   "source": [
    "## Peano Numbers\n",
    "[See confusing Haskell docs about this](https://wiki.haskell.org/Peano_numbers)"
   ]
  },
  {
   "cell_type": "code",
   "execution_count": 19,
   "metadata": {},
   "outputs": [
    {
     "data": {
      "text/plain": [
       "{:module, Peano, <<70, 79, 82, 49, 0, 0, 5, 140, 66, 69, 65, 77, 65, 116, 85, 56, 0, 0, 0, 137, 0, 0, 0, 16, 12, 69, 108, 105, 120, 105, 114, 46, 80, 101, 97, 110, 111, 8, 95, 95, 105, 110, 102, 111, 95, 95, 7, ...>>, {:psize, 2}}"
      ]
     },
     "execution_count": 19,
     "metadata": {},
     "output_type": "execute_result"
    }
   ],
   "source": [
    "defmodule Peano do\n",
    "  \n",
    "  def zero(), do: {}\n",
    "  \n",
    "  def succ(x), do: {x}\n",
    "  \n",
    "  def psize(x), do: psize(x, 0)\n",
    "  \n",
    "  def psize({}, count), do: count\n",
    "  \n",
    "  def psize({x}, count) do\n",
    "    psize(x, count + 1)\n",
    "  end\n",
    "end"
   ]
  },
  {
   "cell_type": "code",
   "execution_count": 20,
   "metadata": {},
   "outputs": [
    {
     "data": {
      "text/plain": [
       "Peano"
      ]
     },
     "execution_count": 20,
     "metadata": {},
     "output_type": "execute_result"
    }
   ],
   "source": [
    "import Peano, only: [zero: 0, succ: 1, psize: 1]"
   ]
  },
  {
   "cell_type": "code",
   "execution_count": 21,
   "metadata": {},
   "outputs": [
    {
     "data": {
      "text/plain": [
       "{}"
      ]
     },
     "execution_count": 21,
     "metadata": {},
     "output_type": "execute_result"
    }
   ],
   "source": [
    "zed = zero()"
   ]
  },
  {
   "cell_type": "code",
   "execution_count": 22,
   "metadata": {},
   "outputs": [
    {
     "data": {
      "text/plain": [
       "{{}}"
      ]
     },
     "execution_count": 22,
     "metadata": {},
     "output_type": "execute_result"
    }
   ],
   "source": [
    "one = succ(zero())"
   ]
  },
  {
   "cell_type": "code",
   "execution_count": 23,
   "metadata": {},
   "outputs": [
    {
     "data": {
      "text/plain": [
       "{{{}}}"
      ]
     },
     "execution_count": 23,
     "metadata": {},
     "output_type": "execute_result"
    }
   ],
   "source": [
    "two = succ(one)"
   ]
  },
  {
   "cell_type": "code",
   "execution_count": 24,
   "metadata": {},
   "outputs": [
    {
     "data": {
      "text/plain": [
       "2"
      ]
     },
     "execution_count": 24,
     "metadata": {},
     "output_type": "execute_result"
    }
   ],
   "source": [
    "psize(two)"
   ]
  },
  {
   "cell_type": "code",
   "execution_count": 25,
   "metadata": {},
   "outputs": [
    {
     "data": {
      "text/plain": [
       "0"
      ]
     },
     "execution_count": 25,
     "metadata": {},
     "output_type": "execute_result"
    }
   ],
   "source": [
    "psize(zero())"
   ]
  },
  {
   "cell_type": "markdown",
   "metadata": {},
   "source": [
    "## Peano Addition"
   ]
  },
  {
   "cell_type": "code",
   "execution_count": 26,
   "metadata": {},
   "outputs": [
    {
     "data": {
      "text/plain": [
       "{:module, PeanoAddition, <<70, 79, 82, 49, 0, 0, 4, 116, 66, 69, 65, 77, 65, 116, 85, 56, 0, 0, 0, 131, 0, 0, 0, 13, 20, 69, 108, 105, 120, 105, 114, 46, 80, 101, 97, 110, 111, 65, 100, 100, 105, 116, 105, 111, 110, 8, 95, ...>>, {:add, 2}}"
      ]
     },
     "execution_count": 26,
     "metadata": {},
     "output_type": "execute_result"
    }
   ],
   "source": [
    "defmodule PeanoAddition do\n",
    "\n",
    "  def add(x, {y}), do: add({x}, y)\n",
    "  \n",
    "  def add(x, {}), do: x\n",
    "end"
   ]
  },
  {
   "cell_type": "code",
   "execution_count": 27,
   "metadata": {},
   "outputs": [
    {
     "data": {
      "text/plain": [
       "PeanoAddition"
      ]
     },
     "execution_count": 27,
     "metadata": {},
     "output_type": "execute_result"
    }
   ],
   "source": [
    "import PeanoAddition, only: [add: 2]"
   ]
  },
  {
   "cell_type": "code",
   "execution_count": 28,
   "metadata": {},
   "outputs": [
    {
     "data": {
      "text/plain": [
       "{{{{{}}}}}"
      ]
     },
     "execution_count": 28,
     "metadata": {},
     "output_type": "execute_result"
    }
   ],
   "source": [
    "four = add(two, two)"
   ]
  },
  {
   "cell_type": "code",
   "execution_count": 29,
   "metadata": {},
   "outputs": [
    {
     "data": {
      "text/plain": [
       "4"
      ]
     },
     "execution_count": 29,
     "metadata": {},
     "output_type": "execute_result"
    }
   ],
   "source": [
    "psize(four)"
   ]
  },
  {
   "cell_type": "markdown",
   "metadata": {},
   "source": [
    "LTR: subtraction"
   ]
  },
  {
   "cell_type": "markdown",
   "metadata": {},
   "source": [
    "## Peano Multiplication"
   ]
  },
  {
   "cell_type": "code",
   "execution_count": 30,
   "metadata": {},
   "outputs": [
    {
     "data": {
      "text/plain": [
       "{:module, PeanoMultiplication, <<70, 79, 82, 49, 0, 0, 4, 244, 66, 69, 65, 77, 65, 116, 85, 56, 0, 0, 0, 162, 0, 0, 0, 15, 26, 69, 108, 105, 120, 105, 114, 46, 80, 101, 97, 110, 111, 77, 117, 108, 116, 105, 112, 108, 105, 99, 97, ...>>, {:mul, 2}}"
      ]
     },
     "execution_count": 30,
     "metadata": {},
     "output_type": "execute_result"
    }
   ],
   "source": [
    "defmodule PeanoMultiplication do\n",
    "  import PeanoAddition, only: [add: 2]\n",
    "  \n",
    "  def mul({}, _), do: {}\n",
    "  \n",
    "  def mul(_, {}), do: {}\n",
    "  \n",
    "  def mul(x, {y}) do \n",
    "    add(x, mul(x, y))\n",
    "  end\n",
    "end"
   ]
  },
  {
   "cell_type": "code",
   "execution_count": null,
   "metadata": {},
   "outputs": [],
   "source": [
    "import PeanoMultiplication, only: [mul: 2]"
   ]
  },
  {
   "cell_type": "code",
   "execution_count": null,
   "metadata": {},
   "outputs": [],
   "source": [
    "sixteen = mul(four, four)"
   ]
  },
  {
   "cell_type": "code",
   "execution_count": null,
   "metadata": {},
   "outputs": [],
   "source": [
    "psize(sixteen)"
   ]
  },
  {
   "cell_type": "markdown",
   "metadata": {},
   "source": [
    "LTR: division"
   ]
  },
  {
   "cell_type": "markdown",
   "metadata": {},
   "source": [
    "## Peano Inequality"
   ]
  },
  {
   "cell_type": "code",
   "execution_count": null,
   "metadata": {},
   "outputs": [],
   "source": [
    "defmodule PeanoEquality do\n",
    "\n",
    "  def eq({}, {}), do: true\n",
    "  \n",
    "  def eq({}, _), do: false\n",
    "  \n",
    "  def eq(_, {}), do: false\n",
    "  \n",
    "  def eq({x}, {y}), do: eq(x, y)\n",
    "end"
   ]
  },
  {
   "cell_type": "code",
   "execution_count": null,
   "metadata": {},
   "outputs": [],
   "source": [
    "import PeanoEquality, only: [eq: 2]"
   ]
  },
  {
   "cell_type": "code",
   "execution_count": null,
   "metadata": {},
   "outputs": [],
   "source": [
    "eq(two, four)"
   ]
  },
  {
   "cell_type": "code",
   "execution_count": null,
   "metadata": {},
   "outputs": [],
   "source": [
    "eq(zero(), zero())"
   ]
  },
  {
   "cell_type": "code",
   "execution_count": null,
   "metadata": {},
   "outputs": [],
   "source": [
    "eq(four, four)"
   ]
  },
  {
   "cell_type": "code",
   "execution_count": null,
   "metadata": {},
   "outputs": [],
   "source": [
    "eq(zero(), two)"
   ]
  },
  {
   "cell_type": "markdown",
   "metadata": {},
   "source": [
    "LTR: less than, greater than, lte, gte"
   ]
  },
  {
   "cell_type": "markdown",
   "metadata": {},
   "source": [
    "LTR: pow"
   ]
  }
 ],
 "metadata": {
  "kernelspec": {
   "display_name": "Elixir",
   "language": "Elixir",
   "name": "ielixir"
  },
  "language_info": {
   "codemirror_mode": "elixir",
   "file_extension": "ex",
   "mimetype": "text/x-elixir",
   "name": "elixir",
   "nbconvert_exporter": "",
   "pygments_lexer": "elixir",
   "version": "1.9.1"
  }
 },
 "nbformat": 4,
 "nbformat_minor": 2
}
