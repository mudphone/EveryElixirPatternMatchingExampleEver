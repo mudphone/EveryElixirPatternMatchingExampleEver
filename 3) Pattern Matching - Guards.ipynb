{
 "cells": [
  {
   "cell_type": "markdown",
   "metadata": {},
   "source": [
    "# Guards Augment Pattern Matching\n",
    "[Guards in Hexdocs](https://hexdocs.pm/elixir/master/guards.html)\n",
    "\n",
    "[Full list of guards in Kernel Hexdocs](https://hexdocs.pm/elixir/master/Kernel.html#guards)\n",
    "\n",
    "This is not meant to be an exhaustive introduction to guards. It is a brief intro to using guards with pattern matching.\n",
    "\n",
    "## List of allowed expressions\n",
    "\n",
    "* comparison operators (`==`, `!=`, `===`, `!==`, `>`, `>=`, `<`, `<=`)\n",
    "* strictly boolean operators (`and`, `or`, `not`). Note `&&`, `||`, and `!` sibling operators are not allowed as they're not strictly boolean - meaning they don't require arguments to be booleans\n",
    "* arithmetic unary and binary operators (`+`, `-`, `+`, `-`, `*`, `/`)\n",
    "* `in` and `not` in operators (as long as the right-hand side is a list or a range)\n",
    "* \"type-check\" functions (`is_atom/1`, `is_binary/1`, `is_bitstring/1`, `is_boolean/1`, `is_float/1`, `is_function/1`, `is_function/2`, `is_integer/1`, `is_list/1`, `is_map/1`, `is_nil/1`, `is_number/1`, `is_pid/1`, `is_port/1`, `is_reference/1`)\n",
    "* functions that work on built-in datatypes (`abs/1`, `binary_part/3`, `bit_size/1`, `byte_size/1`, `ceil/1`, `div/2`, `elem/2`, `floor/1`, `hd/1`, `length/1`, `map_size/1`, `node/0`, `node/1`, `rem/2`, `round/1`, `self/0`, `tl/1`, `trunc/1`, `tuple_size/1`)\n"
   ]
  },
  {
   "cell_type": "markdown",
   "metadata": {},
   "source": [
    "---\n",
    "Guards work in `case` statements"
   ]
  },
  {
   "cell_type": "code",
   "execution_count": 2,
   "metadata": {},
   "outputs": [
    {
     "data": {
      "text/plain": [
       ":larger_than_two"
      ]
     },
     "execution_count": 2,
     "metadata": {},
     "output_type": "execute_result"
    }
   ],
   "source": [
    "x = 3\n",
    "case x do\n",
    "  1 -> :one\n",
    "  2 -> :two\n",
    "  n when is_integer(n) and n > 2 -> :larger_than_two\n",
    "end"
   ]
  },
  {
   "cell_type": "markdown",
   "metadata": {},
   "source": [
    "---\n",
    "Failing guards are silent, they just prevent the clause from matching."
   ]
  },
  {
   "cell_type": "code",
   "execution_count": 3,
   "metadata": {},
   "outputs": [
    {
     "ename": "ArgumentError",
     "evalue": "1",
     "output_type": "error",
     "traceback": [
      "** (ArgumentError) \"argument error\""
     ]
    }
   ],
   "source": [
    "length(\"hello\")"
   ]
  },
  {
   "cell_type": "code",
   "execution_count": 3,
   "metadata": {},
   "outputs": [
    {
     "name": "stderr",
     "output_type": "stream",
     "text": [
      "\u001b[33mwarning: \u001b[0mdo not use \"length(something) > 0\" to check if a list is not empty since length always traverses the whole list. Prefer to pattern match on a non-empty list, such as [_ | _], or use \"something != []\" as a guard\n",
      "  nofile:2\n",
      "\n"
     ]
    },
    {
     "data": {
      "text/plain": [
       ":length_failed"
      ]
     },
     "execution_count": 3,
     "metadata": {},
     "output_type": "execute_result"
    }
   ],
   "source": [
    "case \"hello\" do\n",
    "  something when length(something) > 0 ->\n",
    "    :length_worked\n",
    "  _anything_else ->\n",
    "    :length_failed\n",
    "end"
   ]
  },
  {
   "cell_type": "markdown",
   "metadata": {},
   "source": [
    "## Custom Guards"
   ]
  },
  {
   "cell_type": "code",
   "execution_count": 6,
   "metadata": {},
   "outputs": [
    {
     "name": "stderr",
     "output_type": "stream",
     "text": [
      "\u001b[33mwarning: \u001b[0mredefining module MyInteger (current version defined in memory)\n",
      "  nofile:1\n",
      "\n"
     ]
    },
    {
     "data": {
      "text/plain": [
       "{:module, MyInteger, <<70, 79, 82, 49, 0, 0, 6, 208, 66, 69, 65, 77, 65, 116, 85, 56, 0, 0, 0, 208, 0, 0, 0, 22, 16, 69, 108, 105, 120, 105, 114, 46, 77, 121, 73, 110, 116, 101, 103, 101, 114, 8, 95, 95, 105, 110, 102, ...>>, {:is_even, 1}}"
      ]
     },
     "execution_count": 6,
     "metadata": {},
     "output_type": "execute_result"
    }
   ],
   "source": [
    "defmodule MyInteger do\n",
    "  defguard is_even(value) when is_integer(value) and rem(value, 2) == 0\n",
    "end"
   ]
  },
  {
   "cell_type": "code",
   "execution_count": 5,
   "metadata": {},
   "outputs": [
    {
     "data": {
      "text/plain": [
       "MyInteger"
      ]
     },
     "execution_count": 5,
     "metadata": {},
     "output_type": "execute_result"
    }
   ],
   "source": [
    "import MyInteger, only: [is_even: 1]"
   ]
  },
  {
   "cell_type": "code",
   "execution_count": 14,
   "metadata": {},
   "outputs": [
    {
     "name": "stderr",
     "output_type": "stream",
     "text": [
      "\u001b[33mwarning: \u001b[0mredefining module Mathy (current version defined in memory)\n",
      "  nofile:1\n",
      "\n"
     ]
    },
    {
     "data": {
      "text/plain": [
       "{:module, Mathy, <<70, 79, 82, 49, 0, 0, 5, 164, 66, 69, 65, 77, 65, 116, 85, 56, 0, 0, 0, 158, 0, 0, 0, 16, 12, 69, 108, 105, 120, 105, 114, 46, 77, 97, 116, 104, 121, 8, 95, 95, 105, 110, 102, 111, 95, 95, 7, ...>>, {:yell, 1}}"
      ]
     },
     "execution_count": 14,
     "metadata": {},
     "output_type": "execute_result"
    }
   ],
   "source": [
    "defmodule Mathy do\n",
    "\n",
    "  def yell(number) when is_even(number) do\n",
    "    \"#{number} is EVEN!!!\"\n",
    "  end\n",
    "  \n",
    "  def yell(number)do\n",
    "    \"#{number} is ODD!!!\"\n",
    "  end\n",
    "end"
   ]
  },
  {
   "cell_type": "code",
   "execution_count": 8,
   "metadata": {},
   "outputs": [
    {
     "data": {
      "text/plain": [
       "Mathy"
      ]
     },
     "execution_count": 8,
     "metadata": {},
     "output_type": "execute_result"
    }
   ],
   "source": [
    "import Mathy, only: [yell: 1]"
   ]
  },
  {
   "cell_type": "code",
   "execution_count": 15,
   "metadata": {},
   "outputs": [
    {
     "data": {
      "text/plain": [
       "\"1 is ODD!!!\""
      ]
     },
     "execution_count": 15,
     "metadata": {},
     "output_type": "execute_result"
    }
   ],
   "source": [
    "yell(1)"
   ]
  },
  {
   "cell_type": "code",
   "execution_count": 16,
   "metadata": {},
   "outputs": [
    {
     "data": {
      "text/plain": [
       "\"2 is EVEN!!!\""
      ]
     },
     "execution_count": 16,
     "metadata": {},
     "output_type": "execute_result"
    }
   ],
   "source": [
    "yell(2)"
   ]
  },
  {
   "cell_type": "markdown",
   "metadata": {},
   "source": [
    "---\n",
    "Multiple guards in the same clause"
   ]
  },
  {
   "cell_type": "code",
   "execution_count": 17,
   "metadata": {},
   "outputs": [
    {
     "data": {
      "text/plain": [
       "{:module, MultiGuard, <<70, 79, 82, 49, 0, 0, 4, 248, 66, 69, 65, 77, 65, 116, 85, 56, 0, 0, 0, 160, 0, 0, 0, 16, 17, 69, 108, 105, 120, 105, 114, 46, 77, 117, 108, 116, 105, 71, 117, 97, 114, 100, 8, 95, 95, 105, 110, ...>>, {:foo, 1}}"
      ]
     },
     "execution_count": 17,
     "metadata": {},
     "output_type": "execute_result"
    }
   ],
   "source": [
    "defmodule MultiGuard do\n",
    "  \n",
    "  def foo(term) when is_integer(term) or is_float(term) or is_nil(term), do: :maybe_number\n",
    "  \n",
    "  def foo(_other), do: :something_else\n",
    "end"
   ]
  },
  {
   "cell_type": "code",
   "execution_count": 18,
   "metadata": {},
   "outputs": [
    {
     "data": {
      "text/plain": [
       "MultiGuard"
      ]
     },
     "execution_count": 18,
     "metadata": {},
     "output_type": "execute_result"
    }
   ],
   "source": [
    "import MultiGuard, only: [foo: 1]"
   ]
  },
  {
   "cell_type": "code",
   "execution_count": 19,
   "metadata": {},
   "outputs": [
    {
     "data": {
      "text/plain": [
       ":maybe_number"
      ]
     },
     "execution_count": 19,
     "metadata": {},
     "output_type": "execute_result"
    }
   ],
   "source": [
    "foo(1)"
   ]
  },
  {
   "cell_type": "code",
   "execution_count": 20,
   "metadata": {},
   "outputs": [
    {
     "data": {
      "text/plain": [
       ":something_else"
      ]
     },
     "execution_count": 20,
     "metadata": {},
     "output_type": "execute_result"
    }
   ],
   "source": [
    "foo(:one)"
   ]
  },
  {
   "cell_type": "markdown",
   "metadata": {},
   "source": [
    "... can also be written as"
   ]
  },
  {
   "cell_type": "code",
   "execution_count": 21,
   "metadata": {},
   "outputs": [
    {
     "data": {
      "text/plain": [
       "{:module, MultiGuard2, <<70, 79, 82, 49, 0, 0, 4, 252, 66, 69, 65, 77, 65, 116, 85, 56, 0, 0, 0, 162, 0, 0, 0, 16, 18, 69, 108, 105, 120, 105, 114, 46, 77, 117, 108, 116, 105, 71, 117, 97, 114, 100, 50, 8, 95, 95, 105, ...>>, {:foo2, 1}}"
      ]
     },
     "execution_count": 21,
     "metadata": {},
     "output_type": "execute_result"
    }
   ],
   "source": [
    "defmodule MultiGuard2 do\n",
    "\n",
    "  def foo2(term)\n",
    "      when is_integer(term)\n",
    "      when is_float(term)\n",
    "      when is_nil(term) do\n",
    "    :maybe_number\n",
    "  end\n",
    "\n",
    "  def foo2(_other) do\n",
    "    :something_else\n",
    "  end\n",
    "end"
   ]
  },
  {
   "cell_type": "code",
   "execution_count": 22,
   "metadata": {},
   "outputs": [
    {
     "data": {
      "text/plain": [
       "MultiGuard2"
      ]
     },
     "execution_count": 22,
     "metadata": {},
     "output_type": "execute_result"
    }
   ],
   "source": [
    "import MultiGuard2, only: [foo2: 1]"
   ]
  },
  {
   "cell_type": "code",
   "execution_count": 23,
   "metadata": {},
   "outputs": [
    {
     "data": {
      "text/plain": [
       ":maybe_number"
      ]
     },
     "execution_count": 23,
     "metadata": {},
     "output_type": "execute_result"
    }
   ],
   "source": [
    "foo2(1)"
   ]
  },
  {
   "cell_type": "code",
   "execution_count": 24,
   "metadata": {},
   "outputs": [
    {
     "data": {
      "text/plain": [
       ":something_else"
      ]
     },
     "execution_count": 24,
     "metadata": {},
     "output_type": "execute_result"
    }
   ],
   "source": [
    "foo2(:one)"
   ]
  },
  {
   "cell_type": "markdown",
   "metadata": {},
   "source": [
    "---\n",
    "If any function in a guard raises, then the entire clause fails."
   ]
  },
  {
   "cell_type": "code",
   "execution_count": 25,
   "metadata": {},
   "outputs": [
    {
     "data": {
      "text/plain": [
       "{:module, Check, <<70, 79, 82, 49, 0, 0, 4, 208, 66, 69, 65, 77, 65, 116, 85, 56, 0, 0, 0, 146, 0, 0, 0, 16, 12, 69, 108, 105, 120, 105, 114, 46, 67, 104, 101, 99, 107, 8, 95, 95, 105, 110, 102, 111, 95, 95, 7, ...>>, {:empty?, 1}}"
      ]
     },
     "execution_count": 25,
     "metadata": {},
     "output_type": "execute_result"
    }
   ],
   "source": [
    "defmodule Check do\n",
    "  # If given a tuple, map_size/1 will raise, and tuple_size/1 will not be evaluated\n",
    "  def empty?(val) when map_size(val) == 0 or tuple_size(val) == 0, do: true\n",
    "  def empty?(val) when map_size(val) == 0 \n",
    "                  when tuple_size(val) == 0,do true\n",
    "  \n",
    "  def empty?(_val), do: false\n",
    "end"
   ]
  },
  {
   "cell_type": "code",
   "execution_count": 26,
   "metadata": {},
   "outputs": [
    {
     "data": {
      "text/plain": [
       "Check"
      ]
     },
     "execution_count": 26,
     "metadata": {},
     "output_type": "execute_result"
    }
   ],
   "source": [
    "import Check, only: [empty?: 1]"
   ]
  },
  {
   "cell_type": "code",
   "execution_count": 27,
   "metadata": {},
   "outputs": [
    {
     "data": {
      "text/plain": [
       "true"
      ]
     },
     "execution_count": 27,
     "metadata": {},
     "output_type": "execute_result"
    }
   ],
   "source": [
    "Check.empty?(%{})"
   ]
  },
  {
   "cell_type": "code",
   "execution_count": 29,
   "metadata": {},
   "outputs": [
    {
     "data": {
      "text/plain": [
       "false"
      ]
     },
     "execution_count": 29,
     "metadata": {},
     "output_type": "execute_result"
    }
   ],
   "source": [
    "Check.empty?({}) # true was expected!"
   ]
  },
  {
   "cell_type": "code",
   "execution_count": null,
   "metadata": {},
   "outputs": [],
   "source": []
  }
 ],
 "metadata": {
  "kernelspec": {
   "display_name": "Elixir",
   "language": "Elixir",
   "name": "ielixir"
  },
  "language_info": {
   "codemirror_mode": "elixir",
   "file_extension": "ex",
   "mimetype": "text/x-elixir",
   "name": "elixir",
   "nbconvert_exporter": "",
   "pygments_lexer": "elixir",
   "version": "1.9.1"
  }
 },
 "nbformat": 4,
 "nbformat_minor": 2
}
