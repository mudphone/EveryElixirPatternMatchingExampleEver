{
 "cells": [
  {
   "cell_type": "markdown",
   "metadata": {},
   "source": [
    "# With\n",
    "From the [Special Forms docs](https://hexdocs.pm/elixir/Kernel.SpecialForms.html#with/1)\n",
    "\n",
    "Use `with` to combine clauses."
   ]
  },
  {
   "cell_type": "code",
   "execution_count": 5,
   "metadata": {},
   "outputs": [
    {
     "data": {
      "text/plain": [
       "{:ok, 150}"
      ]
     },
     "execution_count": 5,
     "metadata": {},
     "output_type": "execute_result"
    }
   ],
   "source": [
    "opts = %{width: 10, height: 15}\n",
    "\n",
    "with {:ok, width} <- Map.fetch(opts, :width),\n",
    "     {:ok, height} <- Map.fetch(opts, :height) do\n",
    "  {:ok, width * height}\n",
    "end"
   ]
  },
  {
   "cell_type": "markdown",
   "metadata": {},
   "source": [
    "---\n",
    "Chain is aborted when match fails, and non-match value is returned."
   ]
  },
  {
   "cell_type": "code",
   "execution_count": 4,
   "metadata": {},
   "outputs": [
    {
     "data": {
      "text/plain": [
       ":error"
      ]
     },
     "execution_count": 4,
     "metadata": {},
     "output_type": "execute_result"
    }
   ],
   "source": [
    "opts = %{width: 10}\n",
    "\n",
    "with {:ok, width} <- Map.fetch(opts, :width),\n",
    "     {:ok, height} <- Map.fetch(opts, :height) do\n",
    "  {:ok, width * height}\n",
    "end"
   ]
  },
  {
   "cell_type": "markdown",
   "metadata": {},
   "source": [
    "---\n",
    "Guards are used as well."
   ]
  },
  {
   "cell_type": "code",
   "execution_count": 6,
   "metadata": {},
   "outputs": [
    {
     "data": {
      "text/plain": [
       "{:ok, \"admin\"}"
      ]
     },
     "execution_count": 6,
     "metadata": {},
     "output_type": "execute_result"
    }
   ],
   "source": [
    "users = %{\"melany\" => \"guest\", \"bob\" => :admin}\n",
    "\n",
    "with {:ok, role} when not is_binary(role) <- Map.fetch(users, \"bob\") do\n",
    "  {:ok, to_string(role)}\n",
    "end"
   ]
  },
  {
   "cell_type": "markdown",
   "metadata": {},
   "source": [
    "---\n",
    "Expressions without `<-` may be used in clauses"
   ]
  },
  {
   "cell_type": "code",
   "execution_count": 8,
   "metadata": {},
   "outputs": [
    {
     "data": {
      "text/plain": [
       "{:ok, 300}"
      ]
     },
     "execution_count": 8,
     "metadata": {},
     "output_type": "execute_result"
    }
   ],
   "source": [
    "opts = %{width: 10, height: 15}\n",
    "\n",
    "with {:ok, width} <- Map.fetch(opts, :width),\n",
    "     double_width = width * 2,\n",
    "     {:ok, height} <- Map.fetch(opts, :height) do\n",
    "  {:ok, double_width * height}\n",
    "end"
   ]
  },
  {
   "cell_type": "markdown",
   "metadata": {},
   "source": [
    "---\n",
    "Failed matches can raise."
   ]
  },
  {
   "cell_type": "code",
   "execution_count": 9,
   "metadata": {},
   "outputs": [
    {
     "ename": "MatchError",
     "evalue": "1",
     "output_type": "error",
     "traceback": [
      "** %MatchError{term: :bar}"
     ]
    }
   ],
   "source": [
    "with :foo = :bar, do: :ok"
   ]
  },
  {
   "cell_type": "markdown",
   "metadata": {},
   "source": [
    "---\n",
    "For completeness, you can use an `else` clause."
   ]
  },
  {
   "cell_type": "code",
   "execution_count": 9,
   "metadata": {},
   "outputs": [
    {
     "data": {
      "text/plain": [
       "{:error, :wrong_data}"
      ]
     },
     "execution_count": 9,
     "metadata": {},
     "output_type": "execute_result"
    }
   ],
   "source": [
    "opts = %{width: 10}\n",
    "\n",
    "with {:ok, width} <- Map.fetch(opts, :width),\n",
    "     {:ok, height} <- Map.fetch(opts, :height) do\n",
    "  {:ok, width * height}\n",
    "else\n",
    "  :error ->\n",
    "    {:error, :wrong_data}\n",
    "end"
   ]
  },
  {
   "cell_type": "code",
   "execution_count": null,
   "metadata": {},
   "outputs": [],
   "source": []
  }
 ],
 "metadata": {
  "kernelspec": {
   "display_name": "Elixir",
   "language": "Elixir",
   "name": "ielixir"
  },
  "language_info": {
   "codemirror_mode": "elixir",
   "file_extension": "ex",
   "mimetype": "text/x-elixir",
   "name": "elixir",
   "nbconvert_exporter": "",
   "pygments_lexer": "elixir",
   "version": "1.9.1"
  }
 },
 "nbformat": 4,
 "nbformat_minor": 2
}
